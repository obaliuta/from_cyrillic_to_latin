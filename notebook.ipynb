{
 "cells": [
  {
   "cell_type": "code",
   "execution_count": 1,
   "metadata": {},
   "outputs": [],
   "source": [
    "import pandas as pd\n",
    "import numpy as np"
   ]
  },
  {
   "cell_type": "code",
   "execution_count": 6,
   "metadata": {},
   "outputs": [
    {
     "data": {
      "text/html": [
       "<div>\n",
       "<style scoped>\n",
       "    .dataframe tbody tr th:only-of-type {\n",
       "        vertical-align: middle;\n",
       "    }\n",
       "\n",
       "    .dataframe tbody tr th {\n",
       "        vertical-align: top;\n",
       "    }\n",
       "\n",
       "    .dataframe thead th {\n",
       "        text-align: right;\n",
       "    }\n",
       "</style>\n",
       "<table border=\"1\" class=\"dataframe\">\n",
       "  <thead>\n",
       "    <tr style=\"text-align: right;\">\n",
       "      <th></th>\n",
       "      <th>Місце</th>\n",
       "      <th>Ім'я, прізвище</th>\n",
       "      <th>Статки</th>\n",
       "      <th>Компанія/бренд</th>\n",
       "      <th>Сфера інтересів</th>\n",
       "    </tr>\n",
       "  </thead>\n",
       "  <tbody>\n",
       "    <tr>\n",
       "      <th>0</th>\n",
       "      <td>1</td>\n",
       "      <td>Рінат Ахметов</td>\n",
       "      <td>$7,6 млрд</td>\n",
       "      <td>«Метінвест», ДТЕК</td>\n",
       "      <td>Металургія, ПЕК</td>\n",
       "    </tr>\n",
       "    <tr>\n",
       "      <th>1</th>\n",
       "      <td>2</td>\n",
       "      <td>Віктор Пінчук</td>\n",
       "      <td>$2,5 млрд</td>\n",
       "      <td>«Інтерпайп»</td>\n",
       "      <td>Металургія, нерухомість</td>\n",
       "    </tr>\n",
       "    <tr>\n",
       "      <th>2</th>\n",
       "      <td>3</td>\n",
       "      <td>Костянтин Жеваго</td>\n",
       "      <td>$2,4 млрд</td>\n",
       "      <td>Ferrexpo</td>\n",
       "      <td>Металургія</td>\n",
       "    </tr>\n",
       "    <tr>\n",
       "      <th>3</th>\n",
       "      <td>4</td>\n",
       "      <td>Ігор Коломойський</td>\n",
       "      <td>$1,8 млрд</td>\n",
       "      <td>«Укрнафта»</td>\n",
       "      <td>ЕК, інвестиції</td>\n",
       "    </tr>\n",
       "    <tr>\n",
       "      <th>4</th>\n",
       "      <td>5</td>\n",
       "      <td>Геннадій Боголюбов</td>\n",
       "      <td>\\n$1,7 млрд</td>\n",
       "      <td>«Укрнафта»</td>\n",
       "      <td>ПЕК, інвестиції</td>\n",
       "    </tr>\n",
       "  </tbody>\n",
       "</table>\n",
       "</div>"
      ],
      "text/plain": [
       "   Місце      Ім'я, прізвище       Статки     Компанія/бренд  \\\n",
       "0      1       Рінат Ахметов    $7,6 млрд  «Метінвест», ДТЕК   \n",
       "1      2       Віктор Пінчук    $2,5 млрд        «Інтерпайп»   \n",
       "2      3    Костянтин Жеваго    $2,4 млрд           Ferrexpo   \n",
       "3      4   Ігор Коломойський    $1,8 млрд         «Укрнафта»   \n",
       "4      5  Геннадій Боголюбов  \\n$1,7 млрд         «Укрнафта»   \n",
       "\n",
       "           Сфера інтересів  \n",
       "0          Металургія, ПЕК  \n",
       "1  Металургія, нерухомість  \n",
       "2               Металургія  \n",
       "3           ЕК, інвестиції  \n",
       "4          ПЕК, інвестиції  "
      ]
     },
     "execution_count": 6,
     "metadata": {},
     "output_type": "execute_result"
    }
   ],
   "source": [
    "df = pd.read_excel('data/top100_richest_people_forbes_ua.xlsx', sheet_name='Sheet1')\n",
    "df.head(5)"
   ]
  },
  {
   "cell_type": "code",
   "execution_count": null,
   "metadata": {},
   "outputs": [],
   "source": []
  }
 ],
 "metadata": {
  "kernelspec": {
   "display_name": "Python 3.10.8 64-bit (microsoft store)",
   "language": "python",
   "name": "python3"
  },
  "language_info": {
   "codemirror_mode": {
    "name": "ipython",
    "version": 3
   },
   "file_extension": ".py",
   "mimetype": "text/x-python",
   "name": "python",
   "nbconvert_exporter": "python",
   "pygments_lexer": "ipython3",
   "version": "3.10.8"
  },
  "orig_nbformat": 4,
  "vscode": {
   "interpreter": {
    "hash": "c1b2235b9016a644e129e202523c89a757923065a325d097289cf617718db1a8"
   }
  }
 },
 "nbformat": 4,
 "nbformat_minor": 2
}
